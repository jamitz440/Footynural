{
 "cells": [
  {
   "cell_type": "code",
   "execution_count": 6,
   "metadata": {},
   "outputs": [],
   "source": [
    "from bs4 import BeautifulSoup\n",
    "import requests\n"
   ]
  },
  {
   "cell_type": "code",
   "execution_count": 24,
   "metadata": {},
   "outputs": [
    {
     "name": "stdout",
     "output_type": "stream",
     "text": [
      "[('Villarreal', '2', '3', 'Liverpool', '2022-05-03'), ('Bournemouth', '1', '0', 'Nottingham Forest', '2022-05-03'), ('Partick Thistle', '1', '2', 'Inverness Caledonian Thistle', '2022-05-03'), ('Montrose', '1', '0', 'Airdrieonians', '2022-05-03'), ('Annan Athletic', '1', '0', 'Forfar Athletic', '2022-05-03'), ('FC Edinburgh', '4', '1', 'Dumbarton', '2022-05-03'), ('Chelmsford City', '1', '1', 'Concord Rangers', '2022-05-03'), ('Brisbane Roar', '0', '2', 'Central Coast Mariners', '2022-05-03'), ('Nagoya Grampus', '1', '1', 'Kyoto Sanga', '2022-05-03'), ('Sanfrecce Hiroshima', '1', '2', 'Kashiwa Reysol', '2022-05-03'), ('Kashima Antlers', '3', '1', 'Jubilo Iwata', '2022-05-03'), ('Sagan Tosu', '1', '1', 'Cerezo Osaka', '2022-05-03'), ('Shonan Bellmare', '1', '4', 'Shimizu S-Pulse', '2022-05-03'), ('Avispa Fukuoka', '5', '1', 'FC Tokyo', '2022-05-03')]\n"
     ]
    }
   ],
   "source": [
    "URL = 'https://www.sportinglife.com/football/fixtures-results/2022-05-03'\n",
    "page = requests.get(URL)\n",
    "page = page.content\n",
    "soup = BeautifulSoup(page, 'html.parser')\n",
    "\n",
    "results = soup.find_all('ul', class_='CompetitionList__CompetitionListWrapper-sc-1f2woz6-0 PJXXy')\n",
    "teamA = soup.find_all('span', class_='Item__TeamA-et8305-6 bZRnjo')\n",
    "teamScore = soup.find_all('span', class_='Item__TeamsModifier-et8305-7 fuOChu')\n",
    "teamB = soup.find_all('span', class_='Item__TeamB-et8305-8 dqXJJw')\n",
    "\n",
    "teamAList = []\n",
    "teamAScore = []\n",
    "teamBList = []\n",
    "teamBScore = []\n",
    "\n",
    "for i in teamA:\n",
    "    teamAList.append(i.text)\n",
    "for i in teamScore:\n",
    "    teamAScore.append(i.text[:1])\n",
    "    teamBScore.append(i.text[-1])\n",
    "for i in teamB:\n",
    "    teamBList.append(i.text)\n",
    "\n",
    "date = URL[-10:]\n",
    "\n",
    "data = [(a, b, c, d, date) for a, b, c, d in zip(teamAList, teamAScore, teamBScore, teamBList)]\n",
    "print(data)\n"
   ]
  },
  {
   "cell_type": "code",
   "execution_count": 5,
   "metadata": {},
   "outputs": [
    {
     "name": "stdout",
     "output_type": "stream",
     "text": [
      "Collecting requests\n",
      "  Downloading requests-2.30.0-py3-none-any.whl (62 kB)\n",
      "\u001b[2K     \u001b[90m━━━━━━━━━━━━━━━━━━━━━━━━━━━━━━━━━━━━━━━━\u001b[0m \u001b[32m62.5/62.5 kB\u001b[0m \u001b[31m1.2 MB/s\u001b[0m eta \u001b[36m0:00:00\u001b[0m00:01\u001b[0m\n",
      "\u001b[?25hCollecting charset-normalizer<4,>=2\n",
      "  Using cached charset_normalizer-3.1.0-cp311-cp311-macosx_11_0_arm64.whl (121 kB)\n",
      "Collecting idna<4,>=2.5\n",
      "  Using cached idna-3.4-py3-none-any.whl (61 kB)\n",
      "Collecting urllib3<3,>=1.21.1\n",
      "  Downloading urllib3-2.0.2-py3-none-any.whl (123 kB)\n",
      "\u001b[2K     \u001b[90m━━━━━━━━━━━━━━━━━━━━━━━━━━━━━━━━━━━━━━━\u001b[0m \u001b[32m123.2/123.2 kB\u001b[0m \u001b[31m3.4 MB/s\u001b[0m eta \u001b[36m0:00:00\u001b[0m\n",
      "\u001b[?25hCollecting certifi>=2017.4.17\n",
      "  Using cached certifi-2022.12.7-py3-none-any.whl (155 kB)\n",
      "Installing collected packages: urllib3, idna, charset-normalizer, certifi, requests\n",
      "Successfully installed certifi-2022.12.7 charset-normalizer-3.1.0 idna-3.4 requests-2.30.0 urllib3-2.0.2\n",
      "\n",
      "\u001b[1m[\u001b[0m\u001b[34;49mnotice\u001b[0m\u001b[1;39;49m]\u001b[0m\u001b[39;49m A new release of pip available: \u001b[0m\u001b[31;49m22.3.1\u001b[0m\u001b[39;49m -> \u001b[0m\u001b[32;49m23.1.2\u001b[0m\n",
      "\u001b[1m[\u001b[0m\u001b[34;49mnotice\u001b[0m\u001b[1;39;49m]\u001b[0m\u001b[39;49m To update, run: \u001b[0m\u001b[32;49mpython3.11 -m pip install --upgrade pip\u001b[0m\n"
     ]
    }
   ],
   "source": [
    "!python3 -m pip install requests"
   ]
  },
  {
   "cell_type": "code",
   "execution_count": null,
   "metadata": {},
   "outputs": [],
   "source": []
  }
 ],
 "metadata": {
  "kernelspec": {
   "display_name": "Python 3",
   "language": "python",
   "name": "python3"
  },
  "language_info": {
   "codemirror_mode": {
    "name": "ipython",
    "version": 3
   },
   "file_extension": ".py",
   "mimetype": "text/x-python",
   "name": "python",
   "nbconvert_exporter": "python",
   "pygments_lexer": "ipython3",
   "version": "3.11.2"
  },
  "orig_nbformat": 4
 },
 "nbformat": 4,
 "nbformat_minor": 2
}
